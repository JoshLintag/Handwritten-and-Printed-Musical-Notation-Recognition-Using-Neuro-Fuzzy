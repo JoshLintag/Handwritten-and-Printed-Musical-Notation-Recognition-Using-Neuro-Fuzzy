{
 "cells": [
  {
   "cell_type": "code",
   "execution_count": 3,
   "metadata": {},
   "outputs": [],
   "source": [
    "import tensorflow as tf\n"
   ]
  },
  {
   "cell_type": "markdown",
   "metadata": {},
   "source": [
    "### Load Image"
   ]
  },
  {
   "cell_type": "code",
   "execution_count": 2,
   "metadata": {},
   "outputs": [
    {
     "data": {
      "text/plain": [
       "<matplotlib.image.AxesImage at 0x18cdcd1e2b0>"
      ]
     },
     "execution_count": 2,
     "metadata": {},
     "output_type": "execute_result"
    }
   ],
   "source": [
    "import cv2 \n",
    "import numpy as np\n",
    "from matplotlib import pyplot as plt\n",
    "import matplotlib\n",
    "import skfuzzy as fuzz\n",
    "from pylab import *\n",
    "\n",
    "\n",
    "img = cv2.imread(r'C:\\Users\\Josh\\Desktop\\DATASET\\THESIS\\Printed Symbols\\treble.jpg')\n",
    "\n",
    "\n",
    "#print(img.shape)\n",
    "plt.imshow(img,cmap='gray')\n",
    "#plt.imshow(img)\n",
    "\n"
   ]
  },
  {
   "cell_type": "markdown",
   "metadata": {},
   "source": [
    "### Horizontal Projection and Binarization"
   ]
  },
  {
   "cell_type": "code",
   "execution_count": 13,
   "metadata": {
    "scrolled": true
   },
   "outputs": [
    {
     "data": {
      "image/png": "[encoded data removed]",
      "text/plain": [
       "<Figure size 432x288 with 1 Axes>"
      ]
     },
     "metadata": {
      "needs_background": "light"
     },
     "output_type": "display_data"
    },
    {
     "data": {
      "text/plain": [
       "True"
      ]
     },
     "execution_count": 13,
     "metadata": {},
     "output_type": "execute_result"
    }
   ],
   "source": [
    "\n",
    "ret,noStaffNote = cv2.threshold(img,60,255,cv2.THRESH_BINARY)\n",
    "\n",
    "\n",
    "\n",
    "noStaffNote = cv2.blur(noStaffNote,(2,2))\n",
    "\n",
    "plt.imshow(noStaffNote,cmap='gray')\n",
    "plt.show()\n",
    "\n",
    "cv2.imwrite(r\"C:\\Users\\Josh\\Desktop\\DATASET\\THESIS\\Test.jpg\", noStaffNote)\n",
    "\n",
    "\n"
   ]
  },
  {
   "cell_type": "markdown",
   "metadata": {},
   "source": [
    "### Canny Edge Detector"
   ]
  },
  {
   "cell_type": "code",
   "execution_count": 14,
   "metadata": {},
   "outputs": [
    {
     "data": {
      "image/png": "[encoded data removed]",
      "text/plain": [
       "<Figure size 432x288 with 1 Axes>"
      ]
     },
     "metadata": {
      "needs_background": "light"
     },
     "output_type": "display_data"
    },
    {
     "name": "stdout",
     "output_type": "stream",
     "text": [
      "11.7045\n"
     ]
    }
   ],
   "source": [
    "edges = cv2.Canny(noStaffNote,100,200)\n",
    "    \n",
    "plt.imshow(edges,cmap='gray')\n",
    "plt.show()\n",
    "\n",
    "type(edges)\n",
    "edges.flatten()\n",
    "\n",
    "unique, counts = np.unique(edges, return_counts=True)\n",
    "dict(zip(unique, counts))\n",
    "\n",
    "\n",
    "\n",
    "\n",
    "\n",
    "\n",
    "\n",
    "mean = edges.mean()\n",
    "print(mean)"
   ]
  },
  {
   "cell_type": "markdown",
   "metadata": {},
   "source": [
    "### Getting the Edges"
   ]
  },
  {
   "cell_type": "code",
   "execution_count": 15,
   "metadata": {},
   "outputs": [
    {
     "data": {
      "image/png": "[encoded data removed]",
      "text/plain": [
       "<Figure size 432x288 with 1 Axes>"
      ]
     },
     "metadata": {
      "needs_background": "light"
     },
     "output_type": "display_data"
    },
    {
     "data": {
      "text/plain": [
       "<Figure size 432x288 with 0 Axes>"
      ]
     },
     "metadata": {},
     "output_type": "display_data"
    }
   ],
   "source": [
    "# create a new figure\n",
    "figure()\n",
    "gray()\n",
    "# show contours with origin upper left corner\n",
    "contour(edges, origin='image')\n",
    "axis('equal')\n",
    "axis('off')\n",
    "\n",
    "\n",
    "figure()\n",
    "features = array(edges)\n",
    "\n",
    "\n",
    "\n",
    "show()"
   ]
  },
  {
   "cell_type": "markdown",
   "metadata": {},
   "source": [
    "### Detecting the Transition Values"
   ]
  },
  {
   "cell_type": "markdown",
   "metadata": {},
   "source": [
    "#### This code snippet here takes x1, x2, x3 values of the image provided."
   ]
  },
  {
   "cell_type": "code",
   "execution_count": 2,
   "metadata": {},
   "outputs": [
    {
     "ename": "TypeError",
     "evalue": "'NoneType' object is not iterable",
     "output_type": "error",
     "traceback": [
      "\u001b[1;31m---------------------------------------------------------------------------\u001b[0m",
      "\u001b[1;31mTypeError\u001b[0m                                 Traceback (most recent call last)",
      "\u001b[1;32m<ipython-input-2-fbc59f10adf5>\u001b[0m in \u001b[0;36m<module>\u001b[1;34m\u001b[0m\n\u001b[0;32m     34\u001b[0m     \u001b[0mz\u001b[0m \u001b[1;33m=\u001b[0m \u001b[1;36m0\u001b[0m\u001b[1;33m\u001b[0m\u001b[0m\n\u001b[0;32m     35\u001b[0m \u001b[1;33m\u001b[0m\u001b[0m\n\u001b[1;32m---> 36\u001b[1;33m     \u001b[1;32mfor\u001b[0m \u001b[0ma\u001b[0m \u001b[1;32min\u001b[0m \u001b[0medges\u001b[0m\u001b[1;33m:\u001b[0m\u001b[1;33m\u001b[0m\u001b[0m\n\u001b[0m\u001b[0;32m     37\u001b[0m         \u001b[0my\u001b[0m \u001b[1;33m=\u001b[0m \u001b[1;36m0\u001b[0m\u001b[1;33m\u001b[0m\u001b[0m\n\u001b[0;32m     38\u001b[0m         \u001b[0mz\u001b[0m \u001b[1;33m+=\u001b[0m \u001b[1;36m1\u001b[0m\u001b[1;33m\u001b[0m\u001b[0m\n",
      "\u001b[1;31mTypeError\u001b[0m: 'NoneType' object is not iterable"
     ]
    }
   ],
   "source": [
    "lowest_x1 = 0\n",
    "lowest_x2 = 0\n",
    "lowest_x3 = 0\n",
    "highest_x1 = 0\n",
    "highest_x2 = 0\n",
    "highest_x3 = 0\n",
    "\n",
    "first_run = 1\n",
    "\n",
    "\n",
    "for rep in range(1, 28):\n",
    "    arrX = [1]\n",
    "    arrY = [None]\n",
    "    arrReading = [None]\n",
    "\n",
    "    #for transition detection\n",
    "    local_max = 0\n",
    "    local_min = 0\n",
    "    pr = 0 # previous reading\n",
    "    direction = \"+\"\n",
    "    x = [0] # transition magnitude\n",
    "    #=======================#\n",
    "\n",
    "    #rep = edges;\n",
    "    foldername = \"BassClef\"\n",
    "    path = \"C:\\\\Users\\\\Josh\\\\Desktop\\\\Thesis Data\\\\Extracted\\\\\" + foldername +\"\\\\Testing\\\\\"\n",
    "    #TO MAKE THINGS EASIER, THE IMAGES ARE NAMED 1,2,3,4... etc. \n",
    "    \n",
    "    imgName = path + str(rep) +\".jpg\"\n",
    "    img = cv2.imread(imgName, 0)\n",
    "    edges = cv2.Canny(img, 100, 200)\n",
    "\n",
    "\n",
    "    z = 0\n",
    "\n",
    "    for a in edges:\n",
    "        y = 0\n",
    "        z += 1\n",
    "        arrX.append(z)\n",
    "\n",
    "        for b in a:\n",
    "            if b >= 254:\n",
    "                y += 1\n",
    "\n",
    "        arrY.append(y)\n",
    "\n",
    "    arrX.remove(1)\n",
    "    arrY.remove(None)\n",
    "\n",
    "    plt.plot(arrX, arrY)\n",
    "    plt.title(foldername)\n",
    "    #plt.show()\n",
    "\n",
    "    #DETECTING THE TRANSITION VALUES\n",
    "    for cr in arrY:\n",
    "        if cr != pr:\n",
    "            if cr > (pr+2):\n",
    "                if direction == \"+\":\n",
    "                    if cr > local_max:\n",
    "                        local_max = cr\n",
    "                        pr = cr\n",
    "                    else:\n",
    "                        pr = cr\n",
    "                else:\n",
    "                    direction = \"+\"\n",
    "                    x.append(local_min + local_max)\n",
    "                    local_max = cr\n",
    "                    pr = cr\n",
    "            else:\n",
    "                if cr > pr:\n",
    "                    if direction == \"+\":\n",
    "                        local_max = cr\n",
    "                        pr = cr\n",
    "                    else:\n",
    "                        pr = cr\n",
    "                else:\n",
    "                    if cr < (pr-2):\n",
    "                        if direction == \"-\":\n",
    "                            if cr < local_max:\n",
    "                                local_min = cr\n",
    "                                pr = cr\n",
    "                            else:\n",
    "                                pr = cr\n",
    "                        else:\n",
    "                            direction = \"-\"\n",
    "                            x.append(0 - (local_max - local_min))\n",
    "                            local_min = cr\n",
    "                            pr = cr\n",
    "                    else:\n",
    "                        if direction == \"-\":\n",
    "                            local_min = cr\n",
    "                            pr = cr\n",
    "                        else:\n",
    "                            pr = cr\n",
    "        else:\n",
    "            pr = cr\n",
    "            \n",
    "    try:\n",
    "        #print(\"x1: \" + str(x[1]) + \", x2: \" + str(x[2]) + \", x3: \" + str(x[3]))\n",
    "        print(\"x1: \" + str(x[1]) + \", x2: \" + str(x[2]) + \", x3: \" + str(x[3]))\n",
    "        \n",
    "        \n",
    "    except IndexError:\n",
    "        print(\"Transition Values less than expected\")\n",
    "        pass\n",
    "        \n",
    "        \n",
    "        \n",
    "    \n",
    "    \n",
    "    \n",
    "    #============== This code here will take the lowest x and the highest x ===========#\n",
    "    try:\n",
    "        current_x1 = x[1]\n",
    "        current_x2 = x[2]\n",
    "        current_x3 = x[3]\n",
    "    except IndexError:\n",
    "        pass\n",
    "\n",
    "    #pseudocode\n",
    "    #if the current x1 is bigger than the previous x1, then that's the highest, otherwise, \n",
    "    #if the current x1 is lower than the lowest x1, then that's the lowest\n",
    "    \n",
    "    if(first_run == 1):\n",
    "        highest_x1 = current_x1\n",
    "        lowest_x1 = current_x1\n",
    "        highest_x2 = current_x2\n",
    "        lowest_x2 = current_x2\n",
    "        highest_x3 = current_x3\n",
    "        lowest_x3 = current_x3\n",
    "        \n",
    "        first_run = 0\n",
    "    else:\n",
    "        if(current_x1 >= highest_x1):\n",
    "            highest_x1 = current_x1\n",
    "        elif(current_x1 <= lowest_x1):\n",
    "            lowest_x1 = current_x1\n",
    "            \n",
    "        if(current_x2 >= highest_x2):\n",
    "            highest_x2 = current_x2\n",
    "        elif(current_x2 <= lowest_x2):\n",
    "            lowest_x2 = current_x2\n",
    "\n",
    "        if(current_x3 >= highest_x3):\n",
    "            highest_x3 = current_x3\n",
    "        elif(current_x3 <= lowest_x3):\n",
    "            lowest_x3 = current_x3\n",
    "\n",
    "    \n",
    "    \n",
    "    \n",
    "    \n",
    "    \n",
    "    \n",
    "    \n",
    "    \n",
    "\n",
    "print()\n",
    "print()   \n",
    "print(\"##### LO AND HIGH VALUES #####\")\n",
    "print(\"Highest X1: \" + str(highest_x1))\n",
    "print(\"Lowest X1: \" + str(lowest_x1))\n",
    "print()\n",
    "print(\"Highest X2: \" + str(highest_x2))\n",
    "print(\"Lowest X2: \" + str(lowest_x2))\n",
    "print()\n",
    "print(\"Highest X3: \" + str(highest_x3))\n",
    "print(\"Lowest X3: \" + str(lowest_x3))\n",
    "\n",
    "\n",
    "\n",
    "\n",
    "#===================#\n",
    "\n",
    "\n",
    "\n",
    "\n",
    "## Describing the Fuzzy System"
   ]
  },
  {
   "cell_type": "code",
   "execution_count": 49,
   "metadata": {},
   "outputs": [
    {
     "data": {
      "image/png": "[encoded data removed]",
      "text/plain": [
       "<Figure size 432x288 with 1 Axes>"
      ]
     },
     "metadata": {
      "needs_background": "light"
     },
     "output_type": "display_data"
    }
   ],
   "source": [
    "### THIS PART IS STILL WIP\n",
    "### I don't know if the graph should look like this.\n",
    "### \n",
    "\n",
    "\n",
    "# Generate universe of discourse functions\n",
    "universe = np.arange(-26,  20, 1)\n",
    "\n",
    "\n",
    "# Membership functions for all Xs (FOUND IN THE CSV FILE)\n",
    "x1 = fuzz.trapmf(universe, [-12, -9,-6,-3])\n",
    "x2 = fuzz.trapmf(universe, [0, 3, 7, 9])\n",
    "x3 = fuzz.trapmf(universe, [-15, -10,-5,-1])\n",
    "#mid = fuzz.trapmf(universe, [-60,-22,29,81])\n",
    "\n",
    "\n",
    "# Visualize membership functions for temperature\n",
    "fig, ax = plt.subplots()\n",
    "\n",
    "\n",
    "#ax.plot(universe, x1, 'r', universe, x2, 'm', universe, x3, 'b', universe, mid, 'g')\n",
    "ax.plot(universe, x1, 'r', universe, x2, 'm', universe, x3, 'b')\n",
    "ax.set_ylabel('Fuzzy membership')\n",
    "ax.set_xlabel('Universe of Discourse for Treble Clef')\n",
    "ax.set_ylim(-0.05, 1.05);\n",
    "\n"
   ]
  },
  {
   "cell_type": "code",
   "execution_count": 48,
   "metadata": {},
   "outputs": [
    {
     "data": {
      "image/png": "[encoded data removed]",
      "text/plain": [
       "<Figure size 432x288 with 1 Axes>"
      ]
     },
     "metadata": {
      "needs_background": "light"
     },
     "output_type": "display_data"
    }
   ],
   "source": [
    "fig, ax = plt.subplots()\n",
    "\n",
    "# Membership for a handwritten treble clef that is not part of the training data\n",
    "inputX1 = fuzz.trapmf(universe, [-20, -16,-3,-2])\n",
    "inputX2 = fuzz.trapmf(universe, [5, 8,12,19])\n",
    "inputX3 = fuzz.trapmf(universe, [-14,-9,-5,-3])\n",
    "\n",
    "#\n",
    "\n",
    "ax.plot(universe, x1, 'r', universe, x2, 'm', universe, x3, 'b', universe, inputX1, 'y', universe, inputX2, 'y', universe, inputX3, 'y' )\n",
    "ax.set_ylabel('Fuzzy membership')\n",
    "ax.set_xlabel('Invalid Treble Clef Membership ')\n",
    "ax.set_ylim(-0.05, 1.05);\n",
    "\n",
    "\n",
    "#Fuzzy Relations\n",
    "R1 = fuzz.classic_relation(x1, inputX1)\n",
    "R2 = fuzz.classic_relation(x2, inputX2)\n",
    "R3 = fuzz.classic_relation(x3, inputX3)\n",
    "\n",
    "\n",
    "R_combined = np.fmax(R1, np.fmax(R2, R3))\n",
    "\n",
    "a = fuzz.defuzz(R3, R_combined, 'centroid') \n",
    "a = a * 100\n",
    "a = round(a,3)\n",
    "\n",
    "#print(str(a) + \"% treble clef\")\n",
    "#fuzz.defuzz(R2, R1, 'centroid') \n",
    "\n",
    "\n",
    "#ax.plot(universe, x1, 'r', universe, x2, 'm', universe, x3, 'b', universe, treble, \"y\")\n",
    "#ax.set_ylabel('Fuzzy membership')\n",
    "#ax.set_xlabel('Universe of Discourse')\n",
    "#ax.set_ylim(-0.05, 1.05);\n",
    "\n",
    "\n"
   ]
  },
  {
   "cell_type": "code",
   "execution_count": 40,
   "metadata": {},
   "outputs": [
    {
     "name": "stdout",
     "output_type": "stream",
     "text": [
      "50.19700551615445 %\n"
     ]
    }
   ],
   "source": [
    "a = fuzz.defuzz(R1, R3, 'centroid') \n",
    "a = a * 100\n",
    "\n",
    "\n",
    "print(str(a) + \" %\")"
   ]
  },
  {
   "cell_type": "code",
   "execution_count": null,
   "metadata": {},
   "outputs": [],
   "source": []
  },
  {
   "cell_type": "code",
   "execution_count": null,
   "metadata": {},
   "outputs": [],
   "source": []
  },
  {
   "cell_type": "code",
   "execution_count": null,
   "metadata": {},
   "outputs": [],
   "source": []
  },
  {
   "cell_type": "code",
   "execution_count": null,
   "metadata": {},
   "outputs": [],
   "source": []
  },
  {
   "cell_type": "code",
   "execution_count": null,
   "metadata": {},
   "outputs": [],
   "source": []
  }
 ],
 "metadata": {
  "kernelspec": {
   "display_name": "Python 3",
   "language": "python",
   "name": "python3"
  },
  "language_info": {
   "codemirror_mode": {
    "name": "ipython",
    "version": 3
   },
   "file_extension": ".py",
   "mimetype": "text/x-python",
   "name": "python",
   "nbconvert_exporter": "python",
   "pygments_lexer": "ipython3",
   "version": "3.6.4"
  }
 },
 "nbformat": 4,
 "nbformat_minor": 2
}
